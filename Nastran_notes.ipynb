{
 "cells": [
  {
   "cell_type": "markdown",
   "metadata": {},
   "source": [
    "# Nastran 要点"
   ]
  },
  {
   "cell_type": "markdown",
   "metadata": {},
   "source": [
    "## 建模"
   ]
  },
  {
   "cell_type": "markdown",
   "metadata": {},
   "source": [
    "### 集中质量/协调质量"
   ]
  },
  {
   "cell_type": "markdown",
   "metadata": {},
   "source": [
    "### 阻尼\n",
    "- 结构阻尼（structral damping）\n",
    "\n",
    "    结构阻尼力与位移成正比\n",
    "    $$f_s=iGku$$\n",
    "\n",
    "    其中：\n",
    "    - $G$为结构阻尼系数\n",
    "    - $k$为刚度\n",
    "    - $u$为位移\n",
    "    - $i=\\sqrt{(-1)}$，表示相位改变$90^\\circ$\n",
    "\n",
    "- 粘性阻尼（viscous damping）\n",
    "\n",
    "    粘性阻尼力与速度成正比\n",
    "    $$f_v=c\\dot{u}=i\\omega cu$$\n",
    "\n",
    "    其中：\n",
    "    - $c$为粘性阻尼系数\n",
    "    - $\\dot{u}$为速度"
   ]
  },
  {
   "cell_type": "markdown",
   "metadata": {},
   "source": [
    "### 输出刚度矩阵、质量矩阵"
   ]
  },
  {
   "cell_type": "markdown",
   "metadata": {},
   "source": [
    "### 输出振型矩阵"
   ]
  },
  {
   "cell_type": "markdown",
   "metadata": {},
   "source": [
    "## 模态分析"
   ]
  }
 ],
 "metadata": {
  "kernelspec": {
   "display_name": "Python 3",
   "language": "python",
   "name": "python3"
  },
  "language_info": {
   "codemirror_mode": {
    "name": "ipython",
    "version": 3
   },
   "file_extension": ".py",
   "mimetype": "text/x-python",
   "name": "python",
   "nbconvert_exporter": "python",
   "pygments_lexer": "ipython3",
   "version": "3.9.0"
  }
 },
 "nbformat": 4,
 "nbformat_minor": 4
}
