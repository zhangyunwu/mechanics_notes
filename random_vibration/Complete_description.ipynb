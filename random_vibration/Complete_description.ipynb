{
 "cells": [
  {
   "cell_type": "markdown",
   "metadata": {},
   "source": [
    "# 随机过程、随机场的完全描述"
   ]
  },
  {
   "cell_type": "markdown",
   "metadata": {},
   "source": [
    "> 参考：朱位秋. 随机振动. 北京: 科学出版社, 1992.\n",
    "\n",
    "随机过程或随机场可用下列六种方法作完全描述：\n",
    "\n",
    "- 有限维概率分布函数族\n",
    "\n",
    "- 有限维概率密度函数族\n",
    "\n",
    "- 有限维特征函数族\n",
    "\n",
    "- 有限维对数特征函数族\n",
    "\n",
    "- 矩函数无穷序列\n",
    "\n",
    "- 累积量函数无穷序列\n",
    "\n",
    "> 此外还可用有限维熵函数族作完全描述，此处不论及。"
   ]
  },
  {
   "cell_type": "markdown",
   "metadata": {},
   "source": [
    "## 有限维概率分布函数族\n",
    "\n",
    "一维概率分布函数\n",
    "\n",
    "$$ F(x, t) = P[X(t) \\le x] $$\n",
    "\n",
    "二维联合概率分布函数\n",
    "\n",
    "$$ F(x_1, t_1; x_2, t_2) = P[X(t_1) \\le x_1; X(t_2) \\le x_2] $$\n",
    "\n",
    "$n$维联合概率分布函数\n",
    "\n",
    "$$ F(x_1, t_1; x_2, t_2; \\cdots ; x_n, t_n) = P[X(t_1) \\le x_1; X(t_2) \\le x_2; \\cdots; X(t_n) \\le x_n] $$\n",
    "\n",
    "随机过程的一维、二维及至$n$维概率分布函数之全体称为该过程的有限维概率分布函数族。一个随机过程可用有限维概率分布函数族作完全描述。所谓完全描述，就是能回答有关该过程的所有概率与统计问题。\n",
    "\n",
    "上述完全描述同时适用于离散状态和连续状态的随机过程。"
   ]
  },
  {
   "cell_type": "markdown",
   "metadata": {},
   "source": [
    "## 有限维概率密度函数族\n",
    "\n",
    "$$ p(x, t) = \\frac{\\partial F(x, t)}{\\partial x} $$\n",
    "\n",
    "$$ p(x_1, t_1; x_2, t_2) = \\frac{\\partial^2 F(x_1, t_1; x_2, t_2)}{\\partial x_1 \\partial x_2} $$\n",
    "\n",
    "$$ p(x_1, t_1; x_2, t_2; \\cdots; x_n, t_n) = \\frac{\\partial^{n}F(x_1, t_1; x_2, t_2; \\cdots ; x_n, t_n)}{\\partial x_1 \\partial x_2 \\cdots \\partial x_n} $$\n",
    "\n",
    "一个随机过程的有限维概率分布与密度函数具有以下性质：\n",
    "\n",
    "- 非负性\n",
    "\n",
    "$$ 0 \\le F(x_1, t_1; x_2, t_2; \\cdots ; x_n, t_n) \\le 1 $$\n",
    "$$ 0 \\le p(x_1, t_1; x_2, t_2; \\cdots; x_n, t_n) $$\n",
    "\n",
    "    且满足归一化条件\n",
    "\n",
    "$$ F(\\infty, t_1; \\infty, t_2; \\cdots ; \\infty, t_n) = 1 $$\n",
    "$$ \\int_{-\\infty}^{+\\infty} \\cdots \\int_{-\\infty}^{+\\infty} p(x_1, t_1; x_2, t_2; \\cdots; x_n, t_n) {\\rm d}x_1 {\\rm d}x_2 \\cdots {\\rm d}x_n = 1 $$\n",
    "\n",
    "- 对称性\n",
    "\n",
    "- 相容性，即对任意$m<n$有\n",
    "\n",
    "$$ F(x_1, t_1; x_2, t_2; \\cdots ; x_m, t_m;\\infty, t_{m+1}; \\cdots; \\infty, t_n) = F(x_1, t_1; x_2, t_2; \\cdots ; x_m, t_m) $$\n",
    "$$ \\int_{-\\infty}^{+\\infty} \\cdots \\int_{-\\infty}^{+\\infty} p(x_1, t_1; x_2, t_2; \\cdots; x_m, t_m;x_{m+1}, t_{m+1}; \\cdots; x_n, t_n) {\\rm d}x_{m+1} {\\rm d}x_{m+2} \\cdots {\\rm d}x_n = p(x_1, t_1; x_2, t_2; \\cdots; x_m, t_m) $$\n",
    "\n",
    "    因此一个随机过程的低维概率分布或密度函数可分别由高维概率分布或密度函数导出。"
   ]
  },
  {
   "cell_type": "markdown",
   "metadata": {},
   "source": [
    "## 有限维特征函数族\n",
    "\n",
    "特征函数是概率密度函数的傅里叶变换，或概率分布函数的傅里叶-斯蒂吉斯(Stieltjes)积分。概率密度函数是绝对可积的，因此特征函数总是存在且连续的。\n",
    "\n",
    "$$ \\varphi(\\theta, t) = E[e^{{\\rm i}\\theta X(t)}] = \\int_{-\\infty}^{+\\infty} e^{{\\rm i}\\theta x} p(x, t) {\\rm d}x $$\n",
    "\n",
    "$$\\begin{eqnarray*} \\varphi(\\theta_1, t_1; \\theta_2, t_2) &= E[e^{{\\rm i}\\theta_1 X(t_1)} + {\\rm i}\\theta_2 X(t_2)] \\\\\n",
    "&= \\int_{-\\infty}^{+\\infty} \\int_{-\\infty}^{+\\infty} e^{{\\rm i}(\\theta_1 x_1 + \\theta_2 x_2)} p(x_1, t_1; x_2, t_2) {\\rm d}x_1 {\\rm d}x_2 \\\\\n",
    "\\end{eqnarray*} $$"
   ]
  },
  {
   "source": [
    "$$ \\begin{equation}\n",
    "a^2 + b^2 = c^2\n",
    "\\end{equation} $$"
   ],
   "cell_type": "markdown",
   "metadata": {}
  }
 ],
 "metadata": {
  "kernelspec": {
   "display_name": "Python 3",
   "language": "python",
   "name": "python3"
  },
  "language_info": {
   "codemirror_mode": {
    "name": "ipython",
    "version": 3
   },
   "file_extension": ".py",
   "mimetype": "text/x-python",
   "name": "python",
   "nbconvert_exporter": "python",
   "pygments_lexer": "ipython3",
   "version": "3.9.0"
  }
 },
 "nbformat": 4,
 "nbformat_minor": 4
}