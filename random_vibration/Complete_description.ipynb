{
 "cells": [
  {
   "cell_type": "markdown",
   "metadata": {},
   "source": [
    "# 随机过程、随机场的完全描述"
   ]
  },
  {
   "cell_type": "markdown",
   "metadata": {},
   "source": [
    "> 参考：朱位秋. 随机振动. 北京: 科学出版社, 1992.\n",
    "\n",
    "随机过程或随机场可用下列六种方法作完全描述：\n",
    "\n",
    "- 有限维概率分布函数族\n",
    "\n",
    "- 有限维概率密度函数族\n",
    "\n",
    "- 有限维特征函数族\n",
    "\n",
    "- 有限维对数特征函数族\n",
    "\n",
    "- 矩函数无穷序列\n",
    "\n",
    "- 累积量函数无穷序列\n",
    "\n",
    "> 此外还可用有限维熵函数族作完全描述，此处不论及。\n",
    "\n",
    "## 有限维概率分布与密度函数族\n",
    "\n",
    "一维概率分布函数\n",
    "\n",
    "$$ F(x, t) = P[X(t) \\le x] $$\n",
    "\n",
    "二维联合概率分布函数\n",
    "\n",
    "$$ F(x_1, t_1; x_2, t_2) = P[X(t_1) \\le x_1, X(t_2) \\le x_2] $$"
   ]
  }
 ],
 "metadata": {
  "kernelspec": {
   "display_name": "Python 3",
   "language": "python",
   "name": "python3"
  },
  "language_info": {
   "codemirror_mode": {
    "name": "ipython",
    "version": 3
   },
   "file_extension": ".py",
   "mimetype": "text/x-python",
   "name": "python",
   "nbconvert_exporter": "python",
   "pygments_lexer": "ipython3",
   "version": "3.9.0"
  }
 },
 "nbformat": 4,
 "nbformat_minor": 4
}
